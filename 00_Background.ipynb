{
 "cells": [
  {
   "cell_type": "markdown",
   "metadata": {},
   "source": [
    "# Information\n",
    "- Title: New York City Taxi Fare Prediction\n",
    "- Website: https://www.kaggle.com/c/new-york-city-taxi-fare-prediction/\n",
    "- Purpose: \n",
    "    - *In this playground competition, hosted in partnership with Google Cloud and Coursera, you are tasked with predicting the fare amount (inclusive of tolls) for a taxi ride in New York City given the pickup and dropoff locations*\n",
    "- Scoring Metric: RMSE (root-mean-squared error)\n",
    "    - RMSE=$\\sqrt{1/n∑_{i=1}^n(ŷ_i−y_i)}$\n",
    "    - A large RMSE is equivalent to a large average error, so smaller values of RMSE are better.\n",
    "    - What does this mean? We are calculating the difference between the prediction and the ground truth. We are the squaring the results. If the difference is positive or negative, the concern should be on the magntitude. We then are calculating the average (to normalize the results per observations). Lastly, we are squaring the results to normalize the results in the same measure."
   ]
  },
  {
   "cell_type": "markdown",
   "metadata": {},
   "source": [
    "# About Data\n",
    "- Data is provided by Kaggle.com: https://www.kaggle.com/c/new-york-city-taxi-fare-prediction/\n",
    "- The file is large. I suggest limiting the number of rows to your DataFrames."
   ]
  },
  {
   "cell_type": "markdown",
   "metadata": {},
   "source": [
    "# Findings\n",
    "- Distance is important. Make sure you calculate distance with some metric more reasonable that the difference between dropoff and pickup. \n",
    "- Date variables did not have a strong prediction power as distance (still important to have)\n",
    "- Take precaution during the data cleaning process. Data is not cleaned so spend some time doing so.\n",
    "- Also, the submission is over. You can still send late submissions. I submitted one of my predictions, score was not too promising (around the 45th percentile). I will continue to use more models. I only trained with the Random Forest Regressor."
   ]
  }
 ],
 "metadata": {
  "kernelspec": {
   "display_name": "Python 3",
   "language": "python",
   "name": "python3"
  },
  "language_info": {
   "codemirror_mode": {
    "name": "ipython",
    "version": 3
   },
   "file_extension": ".py",
   "mimetype": "text/x-python",
   "name": "python",
   "nbconvert_exporter": "python",
   "pygments_lexer": "ipython3",
   "version": "3.6.6"
  }
 },
 "nbformat": 4,
 "nbformat_minor": 2
}
